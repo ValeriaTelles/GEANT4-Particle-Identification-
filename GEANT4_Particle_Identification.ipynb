{
  "nbformat": 4,
  "nbformat_minor": 0,
  "metadata": {
    "colab": {
      "name": "GEANT4 Particle Identification.ipynb",
      "provenance": [],
      "collapsed_sections": []
    },
    "kernelspec": {
      "name": "python3",
      "display_name": "Python 3"
    },
    "language_info": {
      "name": "python"
    }
  },
  "cells": [
    {
      "cell_type": "markdown",
      "metadata": {
        "id": "PvNFDz_MevXS"
      },
      "source": [
        "# **GEANT4 Particle Identification**"
      ]
    },
    {
      "cell_type": "code",
      "metadata": {
        "colab": {
          "base_uri": "https://localhost:8080/"
        },
        "id": "wTNi6ja2AXxy",
        "outputId": "9078aa80-86ad-4519-fdff-a8d69bc34d0e"
      },
      "source": [
        "from google.colab import drive \n",
        "drive.mount('/content/gdrive')\n",
        "\n",
        "from warnings import simplefilter\n",
        "simplefilter(action='ignore', category=FutureWarning)\n",
        "\n",
        "from plotnine import *\n",
        "\n",
        "import pandas as pd\n",
        "import numpy as np\n",
        "import jax.numpy as jnp\n",
        "from jax import random\n",
        "from jax import grad, jit, vmap, value_and_grad\n",
        "import time"
      ],
      "execution_count": 2,
      "outputs": [
        {
          "output_type": "stream",
          "name": "stdout",
          "text": [
            "Mounted at /content/gdrive\n"
          ]
        }
      ]
    },
    {
      "cell_type": "markdown",
      "metadata": {
        "id": "8bwPOFjPMb5X"
      },
      "source": [
        "### Background"
      ]
    },
    {
      "cell_type": "markdown",
      "metadata": {
        "id": "Ta6nQZvfhcJF"
      },
      "source": [
        "### Preparing the Dataset\n",
        "The following dataset is from a simplified GEANT4 based simulation of electron-proton inelastic scattering measured by a particle detector system. "
      ]
    },
    {
      "cell_type": "code",
      "metadata": {
        "id": "syI1ykiRBeqJ"
      },
      "source": [
        "data = pd.read_csv('gdrive/My Drive/Datasets/pid-5M.csv')\n",
        "train = data.iloc[0:int(len(data)*0.7),:]\n",
        "test = data.iloc[int(len(data)*0.7):,:]"
      ],
      "execution_count": 3,
      "outputs": []
    },
    {
      "cell_type": "markdown",
      "metadata": {
        "id": "qr4r10hBhKFu"
      },
      "source": [
        "### Exploring the Dataset\n",
        "\n",
        "There are a total of 7 columns. The ```id``` column identifies the particle (e.g., positron (-11), pion (211), kaon (321) and proton (2212)). The ```p``` column is momentum in GeV/c. The ```theta``` and ```beta``` columns are angles in radians. The ```nphe``` column is the number of photoelectrons. The ```ein``` column is the inner energy (GeV). The ```eout``` column is the outer energy (GeV)."
      ]
    },
    {
      "cell_type": "code",
      "metadata": {
        "colab": {
          "base_uri": "https://localhost:8080/",
          "height": 220
        },
        "id": "hidxfhT5Bj5x",
        "outputId": "cd797def-e16a-4cac-fd16-ce8422c2c58c"
      },
      "source": [
        "print(data.shape)\n",
        "data.head() "
      ],
      "execution_count": 4,
      "outputs": [
        {
          "output_type": "stream",
          "name": "stdout",
          "text": [
            "(5000000, 7)\n"
          ]
        },
        {
          "output_type": "execute_result",
          "data": {
            "text/html": [
              "<div>\n",
              "<style scoped>\n",
              "    .dataframe tbody tr th:only-of-type {\n",
              "        vertical-align: middle;\n",
              "    }\n",
              "\n",
              "    .dataframe tbody tr th {\n",
              "        vertical-align: top;\n",
              "    }\n",
              "\n",
              "    .dataframe thead th {\n",
              "        text-align: right;\n",
              "    }\n",
              "</style>\n",
              "<table border=\"1\" class=\"dataframe\">\n",
              "  <thead>\n",
              "    <tr style=\"text-align: right;\">\n",
              "      <th></th>\n",
              "      <th>id</th>\n",
              "      <th>p</th>\n",
              "      <th>theta</th>\n",
              "      <th>beta</th>\n",
              "      <th>nphe</th>\n",
              "      <th>ein</th>\n",
              "      <th>eout</th>\n",
              "    </tr>\n",
              "  </thead>\n",
              "  <tbody>\n",
              "    <tr>\n",
              "      <th>0</th>\n",
              "      <td>211</td>\n",
              "      <td>0.780041</td>\n",
              "      <td>1.081480</td>\n",
              "      <td>0.989962</td>\n",
              "      <td>0</td>\n",
              "      <td>0.000000</td>\n",
              "      <td>0.000000</td>\n",
              "    </tr>\n",
              "    <tr>\n",
              "      <th>1</th>\n",
              "      <td>211</td>\n",
              "      <td>0.260929</td>\n",
              "      <td>0.778892</td>\n",
              "      <td>0.902450</td>\n",
              "      <td>0</td>\n",
              "      <td>0.000000</td>\n",
              "      <td>0.000000</td>\n",
              "    </tr>\n",
              "    <tr>\n",
              "      <th>2</th>\n",
              "      <td>2212</td>\n",
              "      <td>0.773022</td>\n",
              "      <td>0.185953</td>\n",
              "      <td>0.642428</td>\n",
              "      <td>4</td>\n",
              "      <td>0.101900</td>\n",
              "      <td>0.000000</td>\n",
              "    </tr>\n",
              "    <tr>\n",
              "      <th>3</th>\n",
              "      <td>211</td>\n",
              "      <td>0.476997</td>\n",
              "      <td>0.445561</td>\n",
              "      <td>0.951471</td>\n",
              "      <td>0</td>\n",
              "      <td>0.000000</td>\n",
              "      <td>0.000000</td>\n",
              "    </tr>\n",
              "    <tr>\n",
              "      <th>4</th>\n",
              "      <td>2212</td>\n",
              "      <td>2.123290</td>\n",
              "      <td>0.337332</td>\n",
              "      <td>0.908652</td>\n",
              "      <td>0</td>\n",
              "      <td>0.034379</td>\n",
              "      <td>0.049256</td>\n",
              "    </tr>\n",
              "  </tbody>\n",
              "</table>\n",
              "</div>"
            ],
            "text/plain": [
              "     id         p     theta      beta  nphe       ein      eout\n",
              "0   211  0.780041  1.081480  0.989962     0  0.000000  0.000000\n",
              "1   211  0.260929  0.778892  0.902450     0  0.000000  0.000000\n",
              "2  2212  0.773022  0.185953  0.642428     4  0.101900  0.000000\n",
              "3   211  0.476997  0.445561  0.951471     0  0.000000  0.000000\n",
              "4  2212  2.123290  0.337332  0.908652     0  0.034379  0.049256"
            ]
          },
          "metadata": {},
          "execution_count": 4
        }
      ]
    },
    {
      "cell_type": "markdown",
      "metadata": {
        "id": "MsdiiqPOPXIo"
      },
      "source": [
        "We will be using 70% of the dataset to create the train dataset and 30% for the test dataset."
      ]
    },
    {
      "cell_type": "code",
      "metadata": {
        "colab": {
          "base_uri": "https://localhost:8080/"
        },
        "id": "amKKsPooPVVE",
        "outputId": "f7edbefc-7593-4160-fdb8-d70becf78b24"
      },
      "source": [
        "print(train.shape)\n",
        "print(test.shape)"
      ],
      "execution_count": 5,
      "outputs": [
        {
          "output_type": "stream",
          "name": "stdout",
          "text": [
            "(3500000, 7)\n",
            "(1500000, 7)\n"
          ]
        }
      ]
    },
    {
      "cell_type": "markdown",
      "metadata": {
        "id": "RxRcA5fgdi6b"
      },
      "source": [
        "### Correlation Matrix\n",
        "\n",
        "Below we are investigating the correlation matrix of the features."
      ]
    },
    {
      "cell_type": "code",
      "metadata": {
        "colab": {
          "base_uri": "https://localhost:8080/",
          "height": 202
        },
        "id": "TTm3BnbGLdYc",
        "outputId": "04782cdd-3243-44aa-ffe6-daa4703408fc"
      },
      "source": [
        "# compute pairwise correlation of columns, excluding NA/null values\n",
        "cor_data = (data.drop(['id'], axis=1)\n",
        "              .corr().stack()\n",
        "              .reset_index()    \n",
        "              .rename(columns={0: 'correlation', 'level_0': 'variable', 'level_1': 'variable2'}))\n",
        "cor_data['correlation_label'] = cor_data['correlation'].map('{:.2f}'.format) \n",
        "cor_data.head()"
      ],
      "execution_count": 6,
      "outputs": [
        {
          "output_type": "execute_result",
          "data": {
            "text/html": [
              "<div>\n",
              "<style scoped>\n",
              "    .dataframe tbody tr th:only-of-type {\n",
              "        vertical-align: middle;\n",
              "    }\n",
              "\n",
              "    .dataframe tbody tr th {\n",
              "        vertical-align: top;\n",
              "    }\n",
              "\n",
              "    .dataframe thead th {\n",
              "        text-align: right;\n",
              "    }\n",
              "</style>\n",
              "<table border=\"1\" class=\"dataframe\">\n",
              "  <thead>\n",
              "    <tr style=\"text-align: right;\">\n",
              "      <th></th>\n",
              "      <th>variable</th>\n",
              "      <th>variable2</th>\n",
              "      <th>correlation</th>\n",
              "      <th>correlation_label</th>\n",
              "    </tr>\n",
              "  </thead>\n",
              "  <tbody>\n",
              "    <tr>\n",
              "      <th>0</th>\n",
              "      <td>p</td>\n",
              "      <td>p</td>\n",
              "      <td>1.000000</td>\n",
              "      <td>1.00</td>\n",
              "    </tr>\n",
              "    <tr>\n",
              "      <th>1</th>\n",
              "      <td>p</td>\n",
              "      <td>theta</td>\n",
              "      <td>-0.568578</td>\n",
              "      <td>-0.57</td>\n",
              "    </tr>\n",
              "    <tr>\n",
              "      <th>2</th>\n",
              "      <td>p</td>\n",
              "      <td>beta</td>\n",
              "      <td>0.226958</td>\n",
              "      <td>0.23</td>\n",
              "    </tr>\n",
              "    <tr>\n",
              "      <th>3</th>\n",
              "      <td>p</td>\n",
              "      <td>nphe</td>\n",
              "      <td>-0.080424</td>\n",
              "      <td>-0.08</td>\n",
              "    </tr>\n",
              "    <tr>\n",
              "      <th>4</th>\n",
              "      <td>p</td>\n",
              "      <td>ein</td>\n",
              "      <td>0.413338</td>\n",
              "      <td>0.41</td>\n",
              "    </tr>\n",
              "  </tbody>\n",
              "</table>\n",
              "</div>"
            ],
            "text/plain": [
              "  variable variable2  correlation correlation_label\n",
              "0        p         p     1.000000              1.00\n",
              "1        p     theta    -0.568578             -0.57\n",
              "2        p      beta     0.226958              0.23\n",
              "3        p      nphe    -0.080424             -0.08\n",
              "4        p       ein     0.413338              0.41"
            ]
          },
          "metadata": {},
          "execution_count": 6
        }
      ]
    },
    {
      "cell_type": "code",
      "metadata": {
        "colab": {
          "base_uri": "https://localhost:8080/",
          "height": 443
        },
        "id": "TCUhA1xrCzXf",
        "outputId": "7d6b4ab4-9eb2-49a8-f2fd-1c90c2f1230e"
      },
      "source": [
        "cor_data['variable'] = pd.Categorical(cor_data['variable'], categories=[\"theta\", \"p\", \"nphe\", \"eout\", \"ein\", \"beta\"], ordered=True)\n",
        "\n",
        "corr_plot = ggplot(data=cor_data) \\\n",
        "          + geom_tile(mapping=aes(x=\"variable\", y=\"variable2\", fill=\"correlation\"), alpha=0.9, show_legend=False) \\\n",
        "          + geom_text(aes(x=\"variable\", y=\"variable2\", label='correlation_label'), size=12, color='black', fontweight='bold') \\\n",
        "          + scale_fill_cmap(\"YlGnBu_r\") \\\n",
        "          + labs(x='', y='', fill='') \\\n",
        "          + theme(text=element_text(color='black'), panel_grid_major=element_blank(), panel_grid_minor=element_blank(), panel_background=element_blank())\n",
        "corr_plot"
      ],
      "execution_count": 7,
      "outputs": [
        {
          "output_type": "display_data",
          "data": {
            "image/png": "[encoded data removed]",
            "text/plain": [
              "<Figure size 640x480 with 1 Axes>"
            ]
          },
          "metadata": {}
        },
        {
          "output_type": "execute_result",
          "data": {
            "text/plain": [
              "<ggplot: (8741302299793)>"
            ]
          },
          "metadata": {},
          "execution_count": 7
        }
      ]
    },
    {
      "cell_type": "markdown",
      "metadata": {
        "id": "vp4dPLPYlIah"
      },
      "source": [
        "### Beta vs. Momentum\n",
        "\n",
        "The Beta vs. Momentum plot shows the relationship between the $\\beta$ measured by the ToF system and the momentum, p obtained from TPC. The visible bands are from $e^+$ (positron), $\\pi^+$ (pion), $K^-$ (kaon), and p (proton)."
      ]
    },
    {
      "cell_type": "code",
      "metadata": {
        "id": "q0H8NgpV_5ou"
      },
      "source": [
        "density_plot = ggplot(data=data) \\\n",
        "             + geom_bin2d(aes(x='p', y='beta'), bins=1000, show_legend=False) \\\n",
        "             + scale_fill_continuous(\"YlGnBu_r\") \\\n",
        "             + labs(x='p (GeV/c)', y='β (radians)', fontweight='bold') \\\n",
        "             + coord_cartesian(ylim=(0.6, 1.05), xlim=(0.42, 4.5)) \\\n",
        "             + annotate(\"text\", x = 0.4, y = 1.03, label = \"e\", color='yellow', size = 18, fontweight=\"bold\") \\\n",
        "             + annotate(\"text\", x = 0.8, y = 0.95, label = \"π\", color='yellow', size = 18, fontweight=\"bold\") \\\n",
        "             + annotate(\"text\", x = 1.3, y = 0.89, label = \"K\", color='yellow', size = 18, fontweight=\"bold\") \\\n",
        "             + annotate(\"text\", x = 1.65, y = 0.82, label = \"p\", color='yellow', size = 18, fontweight=\"bold\") \n",
        "density_plot"
      ],
      "execution_count": null,
      "outputs": []
    },
    {
      "cell_type": "markdown",
      "metadata": {
        "id": "FUNnBBuRlvvj"
      },
      "source": [
        ""
      ]
    }
  ]
}